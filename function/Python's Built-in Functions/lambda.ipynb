{
 "cells": [
  {
   "cell_type": "markdown",
   "id": "b76cd453",
   "metadata": {},
   "source": [
    "# Lambda\n",
    "Lambda is an anonymous function(no name or one line).\n",
    "\n",
    "Syntax: \n",
    "`lambda arguments: expression, iterable(or items to apply)`"
   ]
  },
  {
   "cell_type": "code",
   "execution_count": 2,
   "id": "b4773002",
   "metadata": {},
   "outputs": [
    {
     "name": "stdout",
     "output_type": "stream",
     "text": [
      "25\n",
      "25\n"
     ]
    }
   ],
   "source": [
    "def squar(x):\n",
    "    return x**2\n",
    "\n",
    "sqaured_lambda = lambda x: x**2\n",
    "\n",
    "print(squar(5))\n",
    "print(sqaured_lambda(5))"
   ]
  },
  {
   "cell_type": "markdown",
   "id": "21e1461d",
   "metadata": {},
   "source": [
    "`filter + lambda`"
   ]
  },
  {
   "cell_type": "code",
   "execution_count": null,
   "id": "43c5800b",
   "metadata": {},
   "outputs": [
    {
     "name": "stdout",
     "output_type": "stream",
     "text": [
      "[5, 10, 15, 20, 25, 30, 35, 40, 45]\n"
     ]
    }
   ],
   "source": [
    "# Filter multiples of 5: filter + lambda\n",
    "# Keep only numbers divisible by 5 for 1-45;\n",
    "\n",
    "div_by_five = list(filter(lambda x: x % 5 == 0, range(1, 46)))\n",
    "print(div_by_five)"
   ]
  },
  {
   "cell_type": "markdown",
   "id": "1e720367",
   "metadata": {},
   "source": [
    "`map + lambda`"
   ]
  },
  {
   "cell_type": "code",
   "execution_count": 4,
   "id": "211b7ad9",
   "metadata": {},
   "outputs": [
    {
     "name": "stdout",
     "output_type": "stream",
     "text": [
      "[0, 1, 4, 9, 16]\n"
     ]
    }
   ],
   "source": [
    "# squre numbers 0-4\n",
    "\n",
    "squre = map(lambda x: x**2, range(0,5))\n",
    "print(list(squre))"
   ]
  },
  {
   "cell_type": "code",
   "execution_count": 10,
   "id": "26a935cc",
   "metadata": {},
   "outputs": [
    {
     "name": "stdout",
     "output_type": "stream",
     "text": [
      "['AI', 'Mesh', 'Python', 'Topology']\n"
     ]
    }
   ],
   "source": [
    "# Sort words by length\n",
    "\n",
    "words = [\"AI\", \"Topology\", \"Python\", \"Mesh\"]\n",
    "\"\"\"\n",
    "1 Step 1: Restate the Problem → I need to sort each words by its length.\n",
    "2 Step 2: Choose the Action Type → sorting\n",
    "3 Step 3: Find the Condition or Rule → len(words)\n",
    "4 Step 4: Combine Tool + Rule → e.g. insert the rule into somethig like a built-in function --> sorted(words, key=len)\n",
    "5 Step 5: Test Small → \n",
    "    \"\"\"\n",
    "\n",
    "l = [3, 1, 99]\n",
    "l.sort()\n",
    "\n",
    "sorted_len = sorted(words, key=len)    \n",
    "print(sorted_len)"
   ]
  },
  {
   "cell_type": "code",
   "execution_count": null,
   "id": "fe25d90c",
   "metadata": {},
   "outputs": [],
   "source": []
  },
  {
   "cell_type": "code",
   "execution_count": null,
   "id": "737398d2",
   "metadata": {},
   "outputs": [],
   "source": []
  }
 ],
 "metadata": {
  "kernelspec": {
   "display_name": "base",
   "language": "python",
   "name": "python3"
  },
  "language_info": {
   "codemirror_mode": {
    "name": "ipython",
    "version": 3
   },
   "file_extension": ".py",
   "mimetype": "text/x-python",
   "name": "python",
   "nbconvert_exporter": "python",
   "pygments_lexer": "ipython3",
   "version": "3.9.19"
  }
 },
 "nbformat": 4,
 "nbformat_minor": 5
}
