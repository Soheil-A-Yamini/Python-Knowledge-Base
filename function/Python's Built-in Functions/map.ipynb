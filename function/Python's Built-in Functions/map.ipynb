{
 "cells": [
  {
   "cell_type": "markdown",
   "id": "edffc9dc",
   "metadata": {},
   "source": [
    "# map(function, iterable, ...)\n",
    "\n",
    "function: applies to all iterable items,\n",
    "iterables: list, tupel, etc. \n",
    "\n",
    "Note: is possible to pass multiple iterables if the function accepts multiple arguments!\n",
    "\n",
    "Synatx: `a`"
   ]
  },
  {
   "cell_type": "code",
   "execution_count": 3,
   "id": "9c12f817",
   "metadata": {},
   "outputs": [
    {
     "name": "stdout",
     "output_type": "stream",
     "text": [
      "[1, 2, 3]\n"
     ]
    }
   ],
   "source": [
    "# Convert str to int\n",
    "t = ['1', '2', '3']\n",
    "t_int = map(int, t)\n",
    "print(list(t_int))"
   ]
  },
  {
   "cell_type": "code",
   "execution_count": null,
   "id": "b23e2511",
   "metadata": {},
   "outputs": [
    {
     "name": "stdout",
     "output_type": "stream",
     "text": [
      "[0, 1, 4, 9, 16]\n"
     ]
    }
   ],
   "source": [
    "# sqaure : map+lambda\n",
    "squre = map(lambda x: x**2, range(0,5))\n",
    "print(list(squre))"
   ]
  },
  {
   "cell_type": "code",
   "execution_count": null,
   "id": "6b6d3cba",
   "metadata": {},
   "outputs": [],
   "source": []
  },
  {
   "cell_type": "markdown",
   "id": "d4941f8e",
   "metadata": {},
   "source": []
  }
 ],
 "metadata": {
  "kernelspec": {
   "display_name": "base",
   "language": "python",
   "name": "python3"
  },
  "language_info": {
   "codemirror_mode": {
    "name": "ipython",
    "version": 3
   },
   "file_extension": ".py",
   "mimetype": "text/x-python",
   "name": "python",
   "nbconvert_exporter": "python",
   "pygments_lexer": "ipython3",
   "version": "3.9.19"
  }
 },
 "nbformat": 4,
 "nbformat_minor": 5
}
