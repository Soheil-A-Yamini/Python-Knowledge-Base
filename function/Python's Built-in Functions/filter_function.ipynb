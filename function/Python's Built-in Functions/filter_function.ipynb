{
 "cells": [
  {
   "cell_type": "markdown",
   "id": "6568562d",
   "metadata": {},
   "source": [
    "# filter(function, iterable)\n",
    "\n",
    "filter(function, iterable) explained\n",
    "\n",
    "function → a function (or lambda) that returns True or False.\n",
    "\n",
    "iterable → something you can loop over (list, tuple, string, etc.).\n",
    "\n",
    "Result → keeps only the items where function(item) is True.\n",
    "\n",
    "It returns a filter object (an iterator), so you usually wrap it in list()."
   ]
  },
  {
   "cell_type": "code",
   "execution_count": 1,
   "id": "91c942e9",
   "metadata": {},
   "outputs": [
    {
     "name": "stdout",
     "output_type": "stream",
     "text": [
      "[2, 4, 6]\n"
     ]
    }
   ],
   "source": [
    "nums = [1, 2, 3, 4, 5, 6]\n",
    "\n",
    "evens = list(filter(lambda x: x % 2 == 0, nums))\n",
    "print(evens)"
   ]
  },
  {
   "cell_type": "code",
   "execution_count": null,
   "id": "05d823ab",
   "metadata": {},
   "outputs": [],
   "source": []
  },
  {
   "cell_type": "code",
   "execution_count": null,
   "id": "06feb245",
   "metadata": {},
   "outputs": [],
   "source": []
  }
 ],
 "metadata": {
  "kernelspec": {
   "display_name": "base",
   "language": "python",
   "name": "python3"
  },
  "language_info": {
   "codemirror_mode": {
    "name": "ipython",
    "version": 3
   },
   "file_extension": ".py",
   "mimetype": "text/x-python",
   "name": "python",
   "nbconvert_exporter": "python",
   "pygments_lexer": "ipython3",
   "version": "3.9.19"
  }
 },
 "nbformat": 4,
 "nbformat_minor": 5
}
