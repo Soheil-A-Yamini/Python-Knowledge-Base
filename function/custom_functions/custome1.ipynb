{
 "cells": [
  {
   "cell_type": "code",
   "execution_count": 7,
   "id": "89386d65",
   "metadata": {},
   "outputs": [
    {
     "data": {
      "text/plain": [
       "True"
      ]
     },
     "execution_count": 7,
     "metadata": {},
     "output_type": "execute_result"
    }
   ],
   "source": [
    "# Write a function that checks whether a number is in a given range (inclusive of high and low)\n",
    "\"\"\"\n",
    "1- exlain in my words: I need to check if run_check(num,low,high)--> is the number in the range of inerval?\n",
    "2- action? check if the number is smaller and eqaul to given interval?\n",
    "3- find condition or rule? comparision operator.\n",
    "4- combine action and condition.\n",
    "5- test.\n",
    "\"\"\"\n",
    "def run_check(num, low, high):\n",
    "    return low <= num <= high\n",
    "\n",
    "# test\n",
    "run_check(2, 2, 7)"
   ]
  },
  {
   "cell_type": "code",
   "execution_count": 6,
   "id": "4b3f5ba9",
   "metadata": {},
   "outputs": [
    {
     "name": "stdout",
     "output_type": "stream",
     "text": [
      "num is in range\n"
     ]
    }
   ],
   "source": [
    "def run(n, l, h):\n",
    "    if n in range(l, h+1):\n",
    "        print('num is in range')\n",
    "    else:\n",
    "        print('Not in range')\n",
    "\n",
    "run(2,2,7)"
   ]
  },
  {
   "cell_type": "code",
   "execution_count": 23,
   "id": "02eec561",
   "metadata": {},
   "outputs": [
    {
     "name": "stdout",
     "output_type": "stream",
     "text": [
      "upper: 1\n",
      "lower: 3\n"
     ]
    }
   ],
   "source": [
    "# write a function to count how many upper, how many lower case letter are in a sentence.\n",
    "\"\"\"1- my definition: count how many upper case letter & how many lower case letter exist in a sentence\n",
    "2- action? use word.isupper() & word.islower(),\n",
    "3- find condition/ rule? the method returns bool value, so I can count them.\n",
    "4- combine: method + counter.\n",
    "\"\"\"\n",
    "def count(word):\n",
    "    upper, lower = 0, 0\n",
    "    for i in word:\n",
    "        if i.isupper():\n",
    "            upper += 1\n",
    "        elif i.islower():\n",
    "            lower += 1\n",
    "    return upper, lower\n",
    "\n",
    "up, low = count(word='Sina')\n",
    "print(f'upper: {up}')\n",
    "print(f'lower: {low}')\n",
    "\n"
   ]
  },
  {
   "cell_type": "code",
   "execution_count": 24,
   "id": "f4c839d9",
   "metadata": {},
   "outputs": [],
   "source": [
    "def couter(word):\n",
    "    cou = {'upper': 0, 'lower': 0}\n",
    "    for char in word:\n",
    "        if char.isupper():\n",
    "            cou['upper'] += 1\n",
    "        elif char.islower():\n",
    "            cou['lower'] += 1\n",
    "    print(f'Word is: {word}')\n",
    "    print(f'Upper letters: {cou[\"upper\"]}')\n",
    "    print(f'Lower letters: {cou[\"lower\"]}')"
   ]
  },
  {
   "cell_type": "code",
   "execution_count": 25,
   "id": "6a5ab126",
   "metadata": {},
   "outputs": [
    {
     "name": "stdout",
     "output_type": "stream",
     "text": [
      "Word is: Sina\n",
      "Upper letters: 1\n",
      "Lower letters: 3\n"
     ]
    }
   ],
   "source": [
    "couter(word='Sina')"
   ]
  },
  {
   "cell_type": "code",
   "execution_count": null,
   "id": "5fc25f46",
   "metadata": {},
   "outputs": [
    {
     "name": "stdout",
     "output_type": "stream",
     "text": [
      "[1, 2, 3, 4, 5]\n"
     ]
    },
    {
     "data": {
      "text/plain": [
       "array([1, 2, 3, 4, 5])"
      ]
     },
     "execution_count": 28,
     "metadata": {},
     "output_type": "execute_result"
    }
   ],
   "source": [
    "def unique_list(lst):\n",
    "    return list(set(lst)) # Attention: set does not preserve the order in list, 3, 1, -1 in set is -1,1,3\n",
    "\n",
    "print(unique_list([1,1,1,1,2,2,3,3,3,3,4,5]))\n",
    "\n",
    "# Method 2: numpy.unique()\n",
    "import numpy as np\n",
    "lst = [1,1,1,1,2,2,3,3,3,3,4,5]\n",
    "lst_arr = np.array(np.unique(lst))\n",
    "lst_arr"
   ]
  },
  {
   "cell_type": "code",
   "execution_count": null,
   "id": "d71354df",
   "metadata": {},
   "outputs": [
    {
     "data": {
      "text/plain": [
       "6"
      ]
     },
     "execution_count": 36,
     "metadata": {},
     "output_type": "execute_result"
    }
   ],
   "source": [
    "# write a function to multiply all the numbers in a list.\n",
    "\n",
    "\"\"\"\n",
    "1- My definition: multiply all numbers in a list.\n",
    "2- action? grab each numbers & *\n",
    "3- how: assignment operator? *=\n",
    "4- combine? step 3\n",
    "\"\"\"\n",
    "\n",
    "def multi(ur):\n",
    "    ur_mul = 1\n",
    "    for num in ur:\n",
    "        ur_mul *= num   \n",
    "    return ur_mul\n",
    "\n",
    "ur = [x for x in range(1,4)]\n",
    "test = multi(ur = ur)\n",
    "test\n"
   ]
  },
  {
   "cell_type": "code",
   "execution_count": 49,
   "id": "0b811311",
   "metadata": {},
   "outputs": [
    {
     "name": "stdout",
     "output_type": "stream",
     "text": [
      "True\n",
      "False\n",
      "False\n"
     ]
    }
   ],
   "source": [
    "# A function to check if a given string/ phrase is Phalindrome or not.\n",
    "\n",
    "def Phalindrome(s):\n",
    "    s.replace(' ', '') # fix the issue of white space\n",
    "    if s == s[::-1]:\n",
    "        return True\n",
    "    else:\n",
    "        return False\n",
    "    \n",
    "q = 'madam'\n",
    "qq = 'sina'\n",
    "qqq = 'nurses run'\n",
    "print(Phalindrome(s=q))\n",
    "print(Phalindrome(s=qq))\n",
    "print(Phalindrome(s=qqq))"
   ]
  },
  {
   "cell_type": "code",
   "execution_count": null,
   "id": "fab00e85",
   "metadata": {},
   "outputs": [],
   "source": []
  }
 ],
 "metadata": {
  "kernelspec": {
   "display_name": "base",
   "language": "python",
   "name": "python3"
  },
  "language_info": {
   "codemirror_mode": {
    "name": "ipython",
    "version": 3
   },
   "file_extension": ".py",
   "mimetype": "text/x-python",
   "name": "python",
   "nbconvert_exporter": "python",
   "pygments_lexer": "ipython3",
   "version": "3.9.19"
  }
 },
 "nbformat": 4,
 "nbformat_minor": 5
}
