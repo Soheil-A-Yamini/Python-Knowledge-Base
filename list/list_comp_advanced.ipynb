{
 "cells": [
  {
   "cell_type": "markdown",
   "id": "97db8463",
   "metadata": {},
   "source": [
    "By list comprehension print all the numbers from 1 to 46 that are divisible by 3."
   ]
  },
  {
   "cell_type": "code",
   "execution_count": null,
   "id": "fb1191b2",
   "metadata": {},
   "outputs": [
    {
     "name": "stdout",
     "output_type": "stream",
     "text": [
      "[3, 6, 9, 12, 15, 18, 21, 24, 27, 30, 33, 36, 39, 42, 45]\n",
      "[3, 6, 9, 12, 15, 18, 21, 24, 27, 30, 33, 36, 39, 42, 45]\n"
     ]
    }
   ],
   "source": [
    "# Method 1;\n",
    "div_by_three = [num for num in range(1, 47) if num %3 == 0]\n",
    "print(div_by_three)\n",
    "\n",
    "# Method 2; \n",
    "# filter + lambda--> filter(function, iterable)\n",
    "div_by_three_filter = list(filter(lambda num: num %3 ==0, range(1, 47)))\n",
    "print(div_by_three_filter)"
   ]
  },
  {
   "cell_type": "code",
   "execution_count": 5,
   "id": "b7e32ad8",
   "metadata": {},
   "outputs": [
    {
     "name": "stdout",
     "output_type": "stream",
     "text": [
      "[1, 9, 25]\n"
     ]
    }
   ],
   "source": [
    "# Square only odd numbers\n",
    "\n",
    "odd_square = [x**2 for x in range(0, 6) if x % 2!=0]\n",
    "print(odd_square)"
   ]
  },
  {
   "cell_type": "code",
   "execution_count": 2,
   "id": "6dffbaed",
   "metadata": {},
   "outputs": [
    {
     "data": {
      "text/plain": [
       "['I', 'a', 'A', 'E', 'A', 'P', 'p']"
      ]
     },
     "execution_count": 2,
     "metadata": {},
     "output_type": "execute_result"
    }
   ],
   "source": [
    "# By list comprehension generate a list of first letters of every word in sentence below.\n",
    "sentence = 'I am AI Engineer AND Python programmer'\n",
    "#            expression for item in iterable\n",
    "first_char = [char[0] for char in sentence.split()] \n",
    "first_char"
   ]
  },
  {
   "cell_type": "code",
   "execution_count": 2,
   "id": "e7f2a5b3",
   "metadata": {},
   "outputs": [
    {
     "data": {
      "text/plain": [
       "['MESH', 'PYTHON', 'FLOW']"
      ]
     },
     "execution_count": 2,
     "metadata": {},
     "output_type": "execute_result"
    }
   ],
   "source": [
    "# From a list of words, return only the ones with more than 3 letters, and convert them to uppercase.\n",
    "words = [\"AI\", \"Mesh\", \"Python\", \"ML\", \"Flow\"]\n",
    "# Expected: ['MESH', 'PYTHON', 'FLOW']\n",
    "upper_three = [word.upper() for word in words if len(word)>3]\n",
    "upper_three"
   ]
  },
  {
   "cell_type": "code",
   "execution_count": 5,
   "id": "bcd12f69",
   "metadata": {},
   "outputs": [
    {
     "name": "stdout",
     "output_type": "stream",
     "text": [
      "['odd', 'even', 'odd', 'even', 'odd']\n"
     ]
    }
   ],
   "source": [
    "# Advanced: List Comprehension + Condition\n",
    "# Given a list of numbers, label them as \"even\" or \"odd\".\n",
    "new_nums = [1, 2, 3, 4, 5]\n",
    "# Expected: ['odd', 'even', 'odd', 'even', 'odd']\n",
    "labeled_nums = ['even' if num % 2 == 0 else 'odd' for num in new_nums]\n",
    "print(labeled_nums)"
   ]
  },
  {
   "cell_type": "code",
   "execution_count": null,
   "id": "05fffd16",
   "metadata": {},
   "outputs": [],
   "source": []
  }
 ],
 "metadata": {
  "kernelspec": {
   "display_name": "base",
   "language": "python",
   "name": "python3"
  },
  "language_info": {
   "codemirror_mode": {
    "name": "ipython",
    "version": 3
   },
   "file_extension": ".py",
   "mimetype": "text/x-python",
   "name": "python",
   "nbconvert_exporter": "python",
   "pygments_lexer": "ipython3",
   "version": "3.9.19"
  }
 },
 "nbformat": 4,
 "nbformat_minor": 5
}
