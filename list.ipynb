{
 "cells": [
  {
   "cell_type": "code",
   "execution_count": 7,
   "id": "1b00d294-102f-40e0-bae4-d15078b6dee0",
   "metadata": {},
   "outputs": [
    {
     "name": "stdout",
     "output_type": "stream",
     "text": [
      "[3, 3]\n",
      "2\n"
     ]
    }
   ],
   "source": [
    "l = [[1, 2, 3], [4, 5, 6]]\n",
    "\n",
    "# count number of lists inside the l\n",
    "num_of_lists = [len(sublist) for sublist in l]\n",
    "print(num_of_lists)\n",
    "print(len(l))"
   ]
  },
  {
   "cell_type": "code",
   "execution_count": 5,
   "id": "05b17268-9d85-40b1-b60b-e1eecee6d361",
   "metadata": {},
   "outputs": [
    {
     "name": "stdout",
     "output_type": "stream",
     "text": [
      "List 1 has 3 elements.\n",
      "List 2 has 3 elements.\n"
     ]
    }
   ],
   "source": [
    "for i, sublist in enumerate(l):\n",
    "    print(f\"List {i+1} has {len(sublist)} elements.\")\n"
   ]
  },
  {
   "cell_type": "code",
   "execution_count": 8,
   "id": "806ec517-eaca-4b8c-b7fa-79593d8c2679",
   "metadata": {},
   "outputs": [
    {
     "name": "stdout",
     "output_type": "stream",
     "text": [
      "6\n"
     ]
    }
   ],
   "source": [
    "# Count total number of items in all lists.\n",
    "print(sum(len(sublist) for sublist in l))"
   ]
  },
  {
   "cell_type": "code",
   "execution_count": 11,
   "id": "24162400-4c0d-4aa0-a3da-34cfdac35f82",
   "metadata": {},
   "outputs": [
    {
     "name": "stdout",
     "output_type": "stream",
     "text": [
      "[2, 3, 4]\n",
      "9\n",
      "3\n"
     ]
    }
   ],
   "source": [
    "data = [\n",
    "    [\"hello\", \"world\"],\n",
    "    [\"python\", \"is\", \"fun\"],\n",
    "    [\"nested\", \"lists\", \"are\", \"useful\"]\n",
    "]\n",
    "\n",
    "# Count number of items inside each lists inside data\n",
    "# [expression for item in iterable]\n",
    "num_list = [len(item) for item in data]\n",
    "print(num_list)\n",
    "print(sum([len(item) for item in data]))\n",
    "\n",
    "# count how many lists r in data\n",
    "print(len(data))"
   ]
  },
  {
   "cell_type": "code",
   "execution_count": 13,
   "id": "f697ec4e-629e-4369-892b-d8b0a425589a",
   "metadata": {},
   "outputs": [],
   "source": [
    "d = [\n",
    "    [\"hello\", \"world\"],\n",
    "    [\"python\", \"is\", \"fun\"],\n",
    "    [\"nested\", \"lists\", \"are\", \"useful\"]\n",
    "]"
   ]
  },
  {
   "cell_type": "code",
   "execution_count": 16,
   "id": "4537a72b-66c6-498e-a342-c0176cd09a11",
   "metadata": {},
   "outputs": [
    {
     "name": "stdout",
     "output_type": "stream",
     "text": [
      "3\n",
      "[2, 3, 4]\n",
      "9\n"
     ]
    }
   ],
   "source": [
    "# 1- num of lists in d\n",
    "print(len(d))\n",
    "\n",
    "# 2- num of items in each lists in d\n",
    "count = [len(item) for item in d]\n",
    "print(count)\n",
    "\n",
    "# 3 - count total number of items \n",
    "print(sum([len(i) for i in d]))"
   ]
  },
  {
   "cell_type": "code",
   "execution_count": 20,
   "id": "f97f7a62-3a95-4a04-81e2-55d259c7e159",
   "metadata": {},
   "outputs": [
    {
     "name": "stdout",
     "output_type": "stream",
     "text": [
      "['hello world', 'python is fun', 'nested lists are useful']\n",
      "3\n"
     ]
    }
   ],
   "source": [
    "# flatting nested lists\n",
    "flattened_d = [\" \".join(item) for item in d] # each list in d is a string in list d!\n",
    "print(flattened_d)\n",
    "print(len(flattened_d))"
   ]
  },
  {
   "cell_type": "code",
   "execution_count": 23,
   "id": "f6646c24-b59e-4bee-9ad1-b3f13a70782a",
   "metadata": {},
   "outputs": [
    {
     "name": "stdout",
     "output_type": "stream",
     "text": [
      "hello world python is fun nested lists are useful\n",
      "49\n"
     ]
    }
   ],
   "source": [
    "# Convert flattened_d to string \n",
    "flattened_d_str = \" \".join(flattened_d)\n",
    "print(flattened_d_str)\n",
    "print(len(flattened_d_str)) "
   ]
  },
  {
   "cell_type": "code",
   "execution_count": 24,
   "id": "d139de48-efc5-4e33-bb81-8f601e178192",
   "metadata": {},
   "outputs": [],
   "source": [
    "d1 = [\n",
    "    [\"h\", \"w\"],\n",
    "    [\"p\", \"i\", \"f\"],\n",
    "    [\"n\", \"l\", \"a\", \"u\"]\n",
    "]"
   ]
  },
  {
   "cell_type": "code",
   "execution_count": 28,
   "id": "be838430-fd11-494f-9637-7078efd72f09",
   "metadata": {},
   "outputs": [
    {
     "name": "stdout",
     "output_type": "stream",
     "text": [
      "3\n",
      "hwpifnlau\n",
      "9\n"
     ]
    }
   ],
   "source": [
    "d1_flat = [''.join(item) for item in d1]\n",
    "print(len(d1_flat))\n",
    "\n",
    "# count number of total str in d1_flat\n",
    "num_of_char = ''.join(d1_flat)\n",
    "print(num_of_char)\n",
    "print(len(num_of_char))"
   ]
  },
  {
   "cell_type": "code",
   "execution_count": 47,
   "id": "77d12b8c-52ef-4c7f-94e7-b5f39066f303",
   "metadata": {},
   "outputs": [
    {
     "name": "stdout",
     "output_type": "stream",
     "text": [
      "[1, 3, 5]\n"
     ]
    }
   ],
   "source": [
    "nested_numbers = [[1, 2, 3], [4, 5, 6]]\n",
    "\"\"\"\n",
    "Dealing with a nested list, to access each list: in list comprehension: [expression for item in iterable if statement], \n",
    "but for nested comp.: [expression for item(e.g. sublist) in iterable(main list, e.g. nested_numbers) in iterable(e.g. sublist)]\n",
    "                      [expression for sublist in main_list for item in sublist if condition]\n",
    "                       point to sublists in main list, then point to item in sublist.\n",
    "\n",
    "sublist in main_list → First loop: Iterates through each sublist.\n",
    "item in sublist → Second loop: Iterates through each element in a sublist.\n",
    "expression → Defines what is stored in the new list.\n",
    "\n",
    "Flattening happens naturally in left-to-right execution\n",
    "\n",
    "\n",
    "\"\"\"\n",
    "# Grab sublists:\n",
    "odd_num = [item for sublist in nested_numbers for item in sublist if item % 2 ==1]\n",
    "print(odd_num)"
   ]
  },
  {
   "cell_type": "code",
   "execution_count": 48,
   "id": "ab10e812-3efb-4595-b443-07e75f63b1cc",
   "metadata": {},
   "outputs": [
    {
     "data": {
      "text/plain": [
       "['hello', 'world', 'python', 'is', 'fun']"
      ]
     },
     "execution_count": 48,
     "metadata": {},
     "output_type": "execute_result"
    }
   ],
   "source": [
    "# Clean bad from sublists\n",
    "sentences = [[\"hello\", \"bad\", \"world\"], [\"python\", \"is\", \"bad\", \"fun\"]]\n",
    "cleaned_list = [item for sublist in sentences for item in sublist if item != 'bad']\n",
    "cleaned_list"
   ]
  },
  {
   "cell_type": "code",
   "execution_count": 50,
   "id": "680c37bc-98c5-455f-983a-06b4dcbdf16c",
   "metadata": {},
   "outputs": [
    {
     "data": {
      "text/plain": [
       "[['hello', 'world'], ['python', 'is', 'fun']]"
      ]
     },
     "execution_count": 50,
     "metadata": {},
     "output_type": "execute_result"
    }
   ],
   "source": [
    "# keep structure not flattening \n",
    "filtered_sent = [[word for word in sublist if word != 'bad'] for sublist in sentences]\n",
    "filtered_sent"
   ]
  },
  {
   "cell_type": "code",
   "execution_count": 54,
   "id": "429213b7-c23c-4f04-ae4f-9033378d9d55",
   "metadata": {},
   "outputs": [
    {
     "ename": "TypeError",
     "evalue": "unhashable type: 'list'",
     "output_type": "error",
     "traceback": [
      "\u001b[1;31m---------------------------------------------------------------------------\u001b[0m",
      "\u001b[1;31mTypeError\u001b[0m                                 Traceback (most recent call last)",
      "Cell \u001b[1;32mIn[54], line 8\u001b[0m\n\u001b[0;32m      4\u001b[0m remove_words \u001b[38;5;241m=\u001b[39m \u001b[38;5;28;01mlambda\u001b[39;00m lst, remove: [remove_words(i, remove) \u001b[38;5;28;01mif\u001b[39;00m \u001b[38;5;28misinstance\u001b[39m(i, \u001b[38;5;28mlist\u001b[39m) \u001b[38;5;28;01melse\u001b[39;00m i \u001b[38;5;28;01mfor\u001b[39;00m i \u001b[38;5;129;01min\u001b[39;00m lst \u001b[38;5;28;01mif\u001b[39;00m i \u001b[38;5;129;01mnot\u001b[39;00m \u001b[38;5;129;01min\u001b[39;00m remove]\n\u001b[0;32m      6\u001b[0m words_to_remove \u001b[38;5;241m=\u001b[39m {\u001b[38;5;124m\"\u001b[39m\u001b[38;5;124mdeep\u001b[39m\u001b[38;5;124m\"\u001b[39m, \u001b[38;5;124m\"\u001b[39m\u001b[38;5;124mfun\u001b[39m\u001b[38;5;124m\"\u001b[39m}\n\u001b[1;32m----> 8\u001b[0m cleaned_data \u001b[38;5;241m=\u001b[39m remove_words(sen, words_to_remove)\n\u001b[0;32m      9\u001b[0m \u001b[38;5;28mprint\u001b[39m(cleaned_data)\n",
      "Cell \u001b[1;32mIn[54], line 4\u001b[0m, in \u001b[0;36m<lambda>\u001b[1;34m(lst, remove)\u001b[0m\n\u001b[0;32m      1\u001b[0m \u001b[38;5;66;03m# Dynamical \u001b[39;00m\n\u001b[0;32m      2\u001b[0m sen \u001b[38;5;241m=\u001b[39m [[\u001b[38;5;124m\"\u001b[39m\u001b[38;5;124mhello\u001b[39m\u001b[38;5;124m\"\u001b[39m, \u001b[38;5;124m\"\u001b[39m\u001b[38;5;124mbad\u001b[39m\u001b[38;5;124m\"\u001b[39m, \u001b[38;5;124m\"\u001b[39m\u001b[38;5;124mworld\u001b[39m\u001b[38;5;124m\"\u001b[39m], [\u001b[38;5;124m\"\u001b[39m\u001b[38;5;124mpython\u001b[39m\u001b[38;5;124m\"\u001b[39m, \u001b[38;5;124m\"\u001b[39m\u001b[38;5;124mis\u001b[39m\u001b[38;5;124m\"\u001b[39m, \u001b[38;5;124m\"\u001b[39m\u001b[38;5;124mbad\u001b[39m\u001b[38;5;124m\"\u001b[39m, \u001b[38;5;124m\"\u001b[39m\u001b[38;5;124mfun\u001b[39m\u001b[38;5;124m\"\u001b[39m]]\n\u001b[1;32m----> 4\u001b[0m remove_words \u001b[38;5;241m=\u001b[39m \u001b[38;5;28;01mlambda\u001b[39;00m lst, remove: [remove_words(i, remove) \u001b[38;5;28;01mif\u001b[39;00m \u001b[38;5;28misinstance\u001b[39m(i, \u001b[38;5;28mlist\u001b[39m) \u001b[38;5;28;01melse\u001b[39;00m i \u001b[38;5;28;01mfor\u001b[39;00m i \u001b[38;5;129;01min\u001b[39;00m lst \u001b[38;5;28;01mif\u001b[39;00m i \u001b[38;5;129;01mnot\u001b[39;00m \u001b[38;5;129;01min\u001b[39;00m remove]\n\u001b[0;32m      6\u001b[0m words_to_remove \u001b[38;5;241m=\u001b[39m {\u001b[38;5;124m\"\u001b[39m\u001b[38;5;124mdeep\u001b[39m\u001b[38;5;124m\"\u001b[39m, \u001b[38;5;124m\"\u001b[39m\u001b[38;5;124mfun\u001b[39m\u001b[38;5;124m\"\u001b[39m}\n\u001b[0;32m      8\u001b[0m cleaned_data \u001b[38;5;241m=\u001b[39m remove_words(sen, words_to_remove)\n",
      "Cell \u001b[1;32mIn[54], line 4\u001b[0m, in \u001b[0;36m<listcomp>\u001b[1;34m(.0)\u001b[0m\n\u001b[0;32m      1\u001b[0m \u001b[38;5;66;03m# Dynamical \u001b[39;00m\n\u001b[0;32m      2\u001b[0m sen \u001b[38;5;241m=\u001b[39m [[\u001b[38;5;124m\"\u001b[39m\u001b[38;5;124mhello\u001b[39m\u001b[38;5;124m\"\u001b[39m, \u001b[38;5;124m\"\u001b[39m\u001b[38;5;124mbad\u001b[39m\u001b[38;5;124m\"\u001b[39m, \u001b[38;5;124m\"\u001b[39m\u001b[38;5;124mworld\u001b[39m\u001b[38;5;124m\"\u001b[39m], [\u001b[38;5;124m\"\u001b[39m\u001b[38;5;124mpython\u001b[39m\u001b[38;5;124m\"\u001b[39m, \u001b[38;5;124m\"\u001b[39m\u001b[38;5;124mis\u001b[39m\u001b[38;5;124m\"\u001b[39m, \u001b[38;5;124m\"\u001b[39m\u001b[38;5;124mbad\u001b[39m\u001b[38;5;124m\"\u001b[39m, \u001b[38;5;124m\"\u001b[39m\u001b[38;5;124mfun\u001b[39m\u001b[38;5;124m\"\u001b[39m]]\n\u001b[1;32m----> 4\u001b[0m remove_words \u001b[38;5;241m=\u001b[39m \u001b[38;5;28;01mlambda\u001b[39;00m lst, remove: [remove_words(i, remove) \u001b[38;5;28;01mif\u001b[39;00m \u001b[38;5;28misinstance\u001b[39m(i, \u001b[38;5;28mlist\u001b[39m) \u001b[38;5;28;01melse\u001b[39;00m i \u001b[38;5;28;01mfor\u001b[39;00m i \u001b[38;5;129;01min\u001b[39;00m lst \u001b[38;5;28;01mif\u001b[39;00m i \u001b[38;5;129;01mnot\u001b[39;00m \u001b[38;5;129;01min\u001b[39;00m remove]\n\u001b[0;32m      6\u001b[0m words_to_remove \u001b[38;5;241m=\u001b[39m {\u001b[38;5;124m\"\u001b[39m\u001b[38;5;124mdeep\u001b[39m\u001b[38;5;124m\"\u001b[39m, \u001b[38;5;124m\"\u001b[39m\u001b[38;5;124mfun\u001b[39m\u001b[38;5;124m\"\u001b[39m}\n\u001b[0;32m      8\u001b[0m cleaned_data \u001b[38;5;241m=\u001b[39m remove_words(sen, words_to_remove)\n",
      "\u001b[1;31mTypeError\u001b[0m: unhashable type: 'list'"
     ]
    }
   ],
   "source": [
    "# Dynamical \n",
    "sen = [[\"hello\", \"bad\", \"world\"], [\"python\", \"is\", \"bad\", \"fun\"]]\n",
    "\n",
    "remove_words = lambda lst, remove: [remove_words(i, remove) if isinstance(i, list) else i for i in lst if i not in remove]\n",
    "\n",
    "words_to_remove = {\"deep\", \"fun\"}\n",
    "\n",
    "cleaned_data = remove_words(sen, words_to_remove)\n",
    "print(cleaned_data)\n"
   ]
  },
  {
   "cell_type": "code",
   "execution_count": 32,
   "id": "dcd72bd1-fbe9-4c7c-bc99-333833178d4a",
   "metadata": {},
   "outputs": [
    {
     "name": "stdout",
     "output_type": "stream",
     "text": [
      "1\n",
      "i so and I,er\n",
      "13\n",
      "<class 'str'>\n",
      "['i', ' ', 's', 'o', ' ', 'a', 'n', 'd', ' ', 'I', ',', 'e', 'r']\n",
      "13\n",
      "<class 'list'>\n"
     ]
    }
   ],
   "source": [
    "l = ['i so and I,er'] # len = 1 since there is only one item in list\n",
    "print(len(l))\n",
    "l_join = ' '.join(l) # number of characters=10, num_of_spaces=3,thus length = 13\n",
    "print(l_join)\n",
    "print(len(l_join))\n",
    "print(type(l_join))\n",
    "re_l_j = [' '.join(sen) for sen in l_join] # number of characters=10, num_of_spaces=3,thus length = 13 but in a list, meaning each char, each space \n",
    "# is one item of list!\n",
    "print(re_l_j)\n",
    "print(len(re_l_j))\n",
    "print(type(re_l_j))"
   ]
  },
  {
   "cell_type": "code",
   "execution_count": 40,
   "id": "76a95ee3-0112-452a-a756-b685d518e62d",
   "metadata": {},
   "outputs": [],
   "source": [
    "# remove a word from d2 e.g. w, p\n",
    "d2 = [\n",
    "    [\"h\", \"w\"],\n",
    "    [\"p\", \"i\", \"f\"],\n",
    "    [\"n\", \"l\", \"a\", \"u\"]\n",
    "]"
   ]
  },
  {
   "cell_type": "code",
   "execution_count": 43,
   "id": "e4669540-0563-4034-abd6-0a5fcff0015e",
   "metadata": {},
   "outputs": [
    {
     "data": {
      "text/plain": [
       "[['h'], ['i'], ['n', 'l', 'a']]"
      ]
     },
     "execution_count": 43,
     "metadata": {},
     "output_type": "execute_result"
    }
   ],
   "source": [
    "cleaned_data = [[item if isinstance(item, list) else item for item in sublist if item not in words_to_remove] for sublist in d2]\n",
    "cleaned_data"
   ]
  },
  {
   "cell_type": "code",
   "execution_count": 42,
   "id": "9db2a179-6893-48fa-910d-3475d5b8906e",
   "metadata": {},
   "outputs": [
    {
     "name": "stdout",
     "output_type": "stream",
     "text": [
      "[['h'], ['i'], ['n', 'l', 'a']]\n"
     ]
    }
   ],
   "source": [
    "d1 = [\n",
    "    [\"h\", \"w\"],\n",
    "    [\"p\", \"i\", \"f\"],\n",
    "    [\"n\", \"l\", \"a\", \"u\"]\n",
    "]\n",
    "words_to_remove = {\"w\", \"p\", \"f\", \"u\"}\n",
    "d1_remo = [[item for item in sublist if item not in words_to_remove] for sublist in d1]\n",
    "print(d1_remo)"
   ]
  },
  {
   "cell_type": "code",
   "execution_count": 37,
   "id": "ef09d9ff-b761-425b-b256-45d270bd6ec9",
   "metadata": {},
   "outputs": [
    {
     "data": {
      "text/plain": [
       "set"
      ]
     },
     "execution_count": 37,
     "metadata": {},
     "output_type": "execute_result"
    }
   ],
   "source": [
    "type(words_to_remove)"
   ]
  },
  {
   "cell_type": "code",
   "execution_count": 44,
   "id": "01a85ac2-3d90-4317-a32a-f689f20413cf",
   "metadata": {},
   "outputs": [],
   "source": [
    "nested_sentences = [\n",
    "    [\"He is a skilled engineer.\", \"He works in AI and robotics.\"],\n",
    "    [\"She is a professional researcher.\", \"She specializes in NLP.\"]\n",
    "]"
   ]
  },
  {
   "cell_type": "code",
   "execution_count": null,
   "id": "96c0afdf-29bb-4161-b0d6-cf8248885d7d",
   "metadata": {},
   "outputs": [],
   "source": []
  },
  {
   "cell_type": "code",
   "execution_count": null,
   "id": "640907e5-2e5f-4425-8e4d-8eb8e55b3aab",
   "metadata": {},
   "outputs": [],
   "source": []
  }
 ],
 "metadata": {
  "kernelspec": {
   "display_name": "Python 3 (ipykernel)",
   "language": "python",
   "name": "python3"
  },
  "language_info": {
   "codemirror_mode": {
    "name": "ipython",
    "version": 3
   },
   "file_extension": ".py",
   "mimetype": "text/x-python",
   "name": "python",
   "nbconvert_exporter": "python",
   "pygments_lexer": "ipython3",
   "version": "3.11.10"
  }
 },
 "nbformat": 4,
 "nbformat_minor": 5
}
