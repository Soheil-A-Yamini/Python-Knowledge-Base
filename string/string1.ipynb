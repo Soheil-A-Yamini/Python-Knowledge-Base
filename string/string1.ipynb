{
 "cells": [
  {
   "cell_type": "markdown",
   "id": "82f555f6",
   "metadata": {},
   "source": [
    "Print any word in the given sentences that starts with `w`."
   ]
  },
  {
   "cell_type": "code",
   "execution_count": 11,
   "id": "8d2d891c",
   "metadata": {},
   "outputs": [
    {
     "name": "stdout",
     "output_type": "stream",
     "text": [
      "word\n",
      "with\n",
      "w.\n",
      "['word', 'with', 'w.']\n",
      "['word', 'with', 'w.']\n"
     ]
    }
   ],
   "source": [
    "sentence = 'Print any word in the given sentences that starts with w.'\n",
    "\n",
    "# Method 1;\n",
    "for char in sentence.split():\n",
    "    if char.lower().startswith('w'):\n",
    "        print(char)\n",
    "\n",
    "# Method 2;\n",
    "# [expression for item in iterable if condition]\n",
    "w = [word for word in sentence.split() if word.lower().startswith('w')]\n",
    "print(w)\n",
    "\n",
    "# Method 3;\n",
    "# filter(function, iterable) --> filter is a built-in Python function. To print filter need to convert to list.\n",
    "print(list(filter(lambda w: w.lower().startswith('w'), sentence.split())))"
   ]
  },
  {
   "cell_type": "code",
   "execution_count": 12,
   "id": "2d822f71",
   "metadata": {},
   "outputs": [
    {
     "name": "stdout",
     "output_type": "stream",
     "text": [
      "['AI', 'GANs', 'Topology']\n"
     ]
    }
   ],
   "source": [
    "# sort words based on their length\n",
    "\n",
    "words = ['Topology','AI', 'GANs']\n",
    "\n",
    "# 1-define in my words: need to sort the words based on their length, -->2- choose action type: sorting, -->3- find condition or loop: len(words), -->4- combine rule+tool: sorted(words, key=len)\n",
    "sorted_len = sorted(words, key=len)\n",
    "print(sorted_len)"
   ]
  },
  {
   "cell_type": "code",
   "execution_count": 8,
   "id": "1fc6e1ec",
   "metadata": {},
   "outputs": [
    {
     "name": "stdout",
     "output_type": "stream",
     "text": [
      "[1, 1, 1, 1, 1, 1, 1, 1, 1, 1]\n",
      "3\n"
     ]
    }
   ],
   "source": [
    "# print every even lenght word in sentence\n",
    "sentence = 'Print every word in this sentence by an even number of characters'\n",
    "# for i in st:\n",
    "    # print(len(i))\n",
    "\n",
    "r = 'soheil siq'\n",
    "# len(r) # attention: len in str: count number of characters for each word + white space!\n",
    "\n",
    "# 1- define task in my words: need to print every word which has even len, -->2- choose action type: counting len of each word, -->3- find condition or loop: if len(word) %2 != 0, 4- combine rule+tool: map(len(word)). \n",
    "# But i cant remeber map! simply check map(function, iterable)\n",
    "# test\n",
    "s_map = map(len, r)\n",
    "print(list(s_map))\n",
    "\n",
    "# split\n",
    "r_split = r.split()\n",
    "ss_map = list(map(len, r_split))\n",
    "for item in ss_map:\n",
    "    if item %2 !=0:\n",
    "        print(item)"
   ]
  },
  {
   "cell_type": "code",
   "execution_count": 7,
   "id": "d7a84fde",
   "metadata": {},
   "outputs": [
    {
     "name": "stdout",
     "output_type": "stream",
     "text": [
      "word\n",
      "in\n",
      "this\n",
      "sentence\n",
      "by\n",
      "an\n",
      "even\n",
      "number\n",
      "of\n",
      "characters\n"
     ]
    }
   ],
   "source": [
    "sentence = 'Print every word in this sentence by an even number of characters'\n",
    "for char in sentence.split():\n",
    "    if len(char) %2 == 0:\n",
    "        print(char)"
   ]
  },
  {
   "cell_type": "code",
   "execution_count": null,
   "metadata": {},
   "outputs": [],
   "source": []
  }
 ],
 "metadata": {
  "kernelspec": {
   "display_name": "base",
   "language": "python",
   "name": "python3"
  },
  "language_info": {
   "codemirror_mode": {
    "name": "ipython",
    "version": 3
   },
   "file_extension": ".py",
   "mimetype": "text/x-python",
   "name": "python",
   "nbconvert_exporter": "python",
   "pygments_lexer": "ipython3",
   "version": "3.9.19"
  }
 },
 "nbformat": 4,
 "nbformat_minor": 5
}
